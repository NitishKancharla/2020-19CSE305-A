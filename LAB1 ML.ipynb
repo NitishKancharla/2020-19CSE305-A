{
 "cells": [
  {
   "cell_type": "code",
   "execution_count": 3,
   "id": "6ff7d17b",
   "metadata": {},
   "outputs": [],
   "source": [
    "import numpy as np\n",
    "import pandas as pd\n"
   ]
  },
  {
   "cell_type": "code",
   "execution_count": 5,
   "id": "274de9eb",
   "metadata": {},
   "outputs": [
    {
     "data": {
      "text/plain": [
       "'1.23.2'"
      ]
     },
     "execution_count": 5,
     "metadata": {},
     "output_type": "execute_result"
    }
   ],
   "source": [
    "pd.__version__\n",
    "np.__version__"
   ]
  },
  {
   "cell_type": "code",
   "execution_count": 14,
   "id": "0f4ba185",
   "metadata": {},
   "outputs": [],
   "source": [
    "#A1 Please refer to the “Purchase Data” worksheet of Lab Session1 Data.xlsx. Please load the data \n",
    "#and segregate them into 2 matrices A & C\n",
    "purchase_data = pd.read_csv('purchase_data_in_csv_format.csv')"
   ]
  },
  {
   "cell_type": "code",
   "execution_count": 22,
   "id": "7dd00a97",
   "metadata": {},
   "outputs": [],
   "source": [
    "basic_values = purchase_data.iloc[:,1:4]\n",
    "final_values = purchase_data.iloc[:,4:5]"
   ]
  },
  {
   "cell_type": "code",
   "execution_count": 23,
   "id": "1d3bff5f",
   "metadata": {},
   "outputs": [
    {
     "data": {
      "text/html": [
       "<div>\n",
       "<style scoped>\n",
       "    .dataframe tbody tr th:only-of-type {\n",
       "        vertical-align: middle;\n",
       "    }\n",
       "\n",
       "    .dataframe tbody tr th {\n",
       "        vertical-align: top;\n",
       "    }\n",
       "\n",
       "    .dataframe thead th {\n",
       "        text-align: right;\n",
       "    }\n",
       "</style>\n",
       "<table border=\"1\" class=\"dataframe\">\n",
       "  <thead>\n",
       "    <tr style=\"text-align: right;\">\n",
       "      <th></th>\n",
       "      <th>Candies (#)</th>\n",
       "      <th>Mangoes (Kg)</th>\n",
       "      <th>Milk Packets (#)</th>\n",
       "    </tr>\n",
       "  </thead>\n",
       "  <tbody>\n",
       "    <tr>\n",
       "      <th>0</th>\n",
       "      <td>20</td>\n",
       "      <td>6</td>\n",
       "      <td>2</td>\n",
       "    </tr>\n",
       "    <tr>\n",
       "      <th>1</th>\n",
       "      <td>16</td>\n",
       "      <td>3</td>\n",
       "      <td>6</td>\n",
       "    </tr>\n",
       "    <tr>\n",
       "      <th>2</th>\n",
       "      <td>27</td>\n",
       "      <td>6</td>\n",
       "      <td>2</td>\n",
       "    </tr>\n",
       "    <tr>\n",
       "      <th>3</th>\n",
       "      <td>19</td>\n",
       "      <td>1</td>\n",
       "      <td>2</td>\n",
       "    </tr>\n",
       "    <tr>\n",
       "      <th>4</th>\n",
       "      <td>24</td>\n",
       "      <td>4</td>\n",
       "      <td>2</td>\n",
       "    </tr>\n",
       "    <tr>\n",
       "      <th>5</th>\n",
       "      <td>22</td>\n",
       "      <td>1</td>\n",
       "      <td>5</td>\n",
       "    </tr>\n",
       "    <tr>\n",
       "      <th>6</th>\n",
       "      <td>15</td>\n",
       "      <td>4</td>\n",
       "      <td>2</td>\n",
       "    </tr>\n",
       "    <tr>\n",
       "      <th>7</th>\n",
       "      <td>18</td>\n",
       "      <td>4</td>\n",
       "      <td>2</td>\n",
       "    </tr>\n",
       "    <tr>\n",
       "      <th>8</th>\n",
       "      <td>21</td>\n",
       "      <td>1</td>\n",
       "      <td>4</td>\n",
       "    </tr>\n",
       "    <tr>\n",
       "      <th>9</th>\n",
       "      <td>16</td>\n",
       "      <td>2</td>\n",
       "      <td>4</td>\n",
       "    </tr>\n",
       "  </tbody>\n",
       "</table>\n",
       "</div>"
      ],
      "text/plain": [
       "   Candies (#)  Mangoes (Kg)  Milk Packets (#)\n",
       "0           20             6                 2\n",
       "1           16             3                 6\n",
       "2           27             6                 2\n",
       "3           19             1                 2\n",
       "4           24             4                 2\n",
       "5           22             1                 5\n",
       "6           15             4                 2\n",
       "7           18             4                 2\n",
       "8           21             1                 4\n",
       "9           16             2                 4"
      ]
     },
     "execution_count": 23,
     "metadata": {},
     "output_type": "execute_result"
    }
   ],
   "source": [
    "basic_values"
   ]
  },
  {
   "cell_type": "code",
   "execution_count": 24,
   "id": "551fa320",
   "metadata": {},
   "outputs": [
    {
     "data": {
      "text/html": [
       "<div>\n",
       "<style scoped>\n",
       "    .dataframe tbody tr th:only-of-type {\n",
       "        vertical-align: middle;\n",
       "    }\n",
       "\n",
       "    .dataframe tbody tr th {\n",
       "        vertical-align: top;\n",
       "    }\n",
       "\n",
       "    .dataframe thead th {\n",
       "        text-align: right;\n",
       "    }\n",
       "</style>\n",
       "<table border=\"1\" class=\"dataframe\">\n",
       "  <thead>\n",
       "    <tr style=\"text-align: right;\">\n",
       "      <th></th>\n",
       "      <th>Payment (Rs)</th>\n",
       "    </tr>\n",
       "  </thead>\n",
       "  <tbody>\n",
       "    <tr>\n",
       "      <th>0</th>\n",
       "      <td>386</td>\n",
       "    </tr>\n",
       "    <tr>\n",
       "      <th>1</th>\n",
       "      <td>289</td>\n",
       "    </tr>\n",
       "    <tr>\n",
       "      <th>2</th>\n",
       "      <td>393</td>\n",
       "    </tr>\n",
       "    <tr>\n",
       "      <th>3</th>\n",
       "      <td>110</td>\n",
       "    </tr>\n",
       "    <tr>\n",
       "      <th>4</th>\n",
       "      <td>280</td>\n",
       "    </tr>\n",
       "    <tr>\n",
       "      <th>5</th>\n",
       "      <td>167</td>\n",
       "    </tr>\n",
       "    <tr>\n",
       "      <th>6</th>\n",
       "      <td>271</td>\n",
       "    </tr>\n",
       "    <tr>\n",
       "      <th>7</th>\n",
       "      <td>274</td>\n",
       "    </tr>\n",
       "    <tr>\n",
       "      <th>8</th>\n",
       "      <td>148</td>\n",
       "    </tr>\n",
       "    <tr>\n",
       "      <th>9</th>\n",
       "      <td>198</td>\n",
       "    </tr>\n",
       "  </tbody>\n",
       "</table>\n",
       "</div>"
      ],
      "text/plain": [
       "   Payment (Rs)\n",
       "0           386\n",
       "1           289\n",
       "2           393\n",
       "3           110\n",
       "4           280\n",
       "5           167\n",
       "6           271\n",
       "7           274\n",
       "8           148\n",
       "9           198"
      ]
     },
     "execution_count": 24,
     "metadata": {},
     "output_type": "execute_result"
    }
   ],
   "source": [
    "final_values"
   ]
  },
  {
   "cell_type": "code",
   "execution_count": 25,
   "id": "3ed26cf4",
   "metadata": {},
   "outputs": [
    {
     "data": {
      "text/html": [
       "<div>\n",
       "<style scoped>\n",
       "    .dataframe tbody tr th:only-of-type {\n",
       "        vertical-align: middle;\n",
       "    }\n",
       "\n",
       "    .dataframe tbody tr th {\n",
       "        vertical-align: top;\n",
       "    }\n",
       "\n",
       "    .dataframe thead th {\n",
       "        text-align: right;\n",
       "    }\n",
       "</style>\n",
       "<table border=\"1\" class=\"dataframe\">\n",
       "  <thead>\n",
       "    <tr style=\"text-align: right;\">\n",
       "      <th></th>\n",
       "      <th>Payment (Rs)</th>\n",
       "    </tr>\n",
       "  </thead>\n",
       "  <tbody>\n",
       "    <tr>\n",
       "      <th>count</th>\n",
       "      <td>10.000000</td>\n",
       "    </tr>\n",
       "    <tr>\n",
       "      <th>mean</th>\n",
       "      <td>251.600000</td>\n",
       "    </tr>\n",
       "    <tr>\n",
       "      <th>std</th>\n",
       "      <td>95.425596</td>\n",
       "    </tr>\n",
       "    <tr>\n",
       "      <th>min</th>\n",
       "      <td>110.000000</td>\n",
       "    </tr>\n",
       "    <tr>\n",
       "      <th>25%</th>\n",
       "      <td>174.750000</td>\n",
       "    </tr>\n",
       "    <tr>\n",
       "      <th>50%</th>\n",
       "      <td>272.500000</td>\n",
       "    </tr>\n",
       "    <tr>\n",
       "      <th>75%</th>\n",
       "      <td>286.750000</td>\n",
       "    </tr>\n",
       "    <tr>\n",
       "      <th>max</th>\n",
       "      <td>393.000000</td>\n",
       "    </tr>\n",
       "  </tbody>\n",
       "</table>\n",
       "</div>"
      ],
      "text/plain": [
       "       Payment (Rs)\n",
       "count     10.000000\n",
       "mean     251.600000\n",
       "std       95.425596\n",
       "min      110.000000\n",
       "25%      174.750000\n",
       "50%      272.500000\n",
       "75%      286.750000\n",
       "max      393.000000"
      ]
     },
     "execution_count": 25,
     "metadata": {},
     "output_type": "execute_result"
    }
   ],
   "source": [
    "final_values.describe()"
   ]
  },
  {
   "cell_type": "code",
   "execution_count": 26,
   "id": "190eb820",
   "metadata": {},
   "outputs": [
    {
     "data": {
      "text/html": [
       "<div>\n",
       "<style scoped>\n",
       "    .dataframe tbody tr th:only-of-type {\n",
       "        vertical-align: middle;\n",
       "    }\n",
       "\n",
       "    .dataframe tbody tr th {\n",
       "        vertical-align: top;\n",
       "    }\n",
       "\n",
       "    .dataframe thead th {\n",
       "        text-align: right;\n",
       "    }\n",
       "</style>\n",
       "<table border=\"1\" class=\"dataframe\">\n",
       "  <thead>\n",
       "    <tr style=\"text-align: right;\">\n",
       "      <th></th>\n",
       "      <th>Candies (#)</th>\n",
       "      <th>Mangoes (Kg)</th>\n",
       "      <th>Milk Packets (#)</th>\n",
       "    </tr>\n",
       "  </thead>\n",
       "  <tbody>\n",
       "    <tr>\n",
       "      <th>count</th>\n",
       "      <td>10.000000</td>\n",
       "      <td>10.000000</td>\n",
       "      <td>10.000000</td>\n",
       "    </tr>\n",
       "    <tr>\n",
       "      <th>mean</th>\n",
       "      <td>19.800000</td>\n",
       "      <td>3.200000</td>\n",
       "      <td>3.100000</td>\n",
       "    </tr>\n",
       "    <tr>\n",
       "      <th>std</th>\n",
       "      <td>3.823901</td>\n",
       "      <td>1.932184</td>\n",
       "      <td>1.523884</td>\n",
       "    </tr>\n",
       "    <tr>\n",
       "      <th>min</th>\n",
       "      <td>15.000000</td>\n",
       "      <td>1.000000</td>\n",
       "      <td>2.000000</td>\n",
       "    </tr>\n",
       "    <tr>\n",
       "      <th>25%</th>\n",
       "      <td>16.500000</td>\n",
       "      <td>1.250000</td>\n",
       "      <td>2.000000</td>\n",
       "    </tr>\n",
       "    <tr>\n",
       "      <th>50%</th>\n",
       "      <td>19.500000</td>\n",
       "      <td>3.500000</td>\n",
       "      <td>2.000000</td>\n",
       "    </tr>\n",
       "    <tr>\n",
       "      <th>75%</th>\n",
       "      <td>21.750000</td>\n",
       "      <td>4.000000</td>\n",
       "      <td>4.000000</td>\n",
       "    </tr>\n",
       "    <tr>\n",
       "      <th>max</th>\n",
       "      <td>27.000000</td>\n",
       "      <td>6.000000</td>\n",
       "      <td>6.000000</td>\n",
       "    </tr>\n",
       "  </tbody>\n",
       "</table>\n",
       "</div>"
      ],
      "text/plain": [
       "       Candies (#)  Mangoes (Kg)  Milk Packets (#)\n",
       "count    10.000000     10.000000         10.000000\n",
       "mean     19.800000      3.200000          3.100000\n",
       "std       3.823901      1.932184          1.523884\n",
       "min      15.000000      1.000000          2.000000\n",
       "25%      16.500000      1.250000          2.000000\n",
       "50%      19.500000      3.500000          2.000000\n",
       "75%      21.750000      4.000000          4.000000\n",
       "max      27.000000      6.000000          6.000000"
      ]
     },
     "execution_count": 26,
     "metadata": {},
     "output_type": "execute_result"
    }
   ],
   "source": [
    "basic_values.describe()"
   ]
  },
  {
   "cell_type": "code",
   "execution_count": 27,
   "id": "cc072d83",
   "metadata": {},
   "outputs": [
    {
     "data": {
      "text/plain": [
       "(10, 3)"
      ]
     },
     "execution_count": 27,
     "metadata": {},
     "output_type": "execute_result"
    }
   ],
   "source": [
    "#What is the dimensionality of the vector space for this data?\n",
    "basic_values.shape "
   ]
  },
  {
   "cell_type": "code",
   "execution_count": 28,
   "id": "f5facae7",
   "metadata": {},
   "outputs": [
    {
     "data": {
      "text/plain": [
       "(10, 1)"
      ]
     },
     "execution_count": 28,
     "metadata": {},
     "output_type": "execute_result"
    }
   ],
   "source": [
    "#What is the dimensionality of the vector space for this data?\n",
    "final_values.shape"
   ]
  },
  {
   "cell_type": "code",
   "execution_count": 29,
   "id": "a66df8a6",
   "metadata": {},
   "outputs": [],
   "source": [
    "basic_values = purchase_data.iloc[:,1:4].values\n",
    "final_values = purchase_data.iloc[:,4:5].values\n"
   ]
  },
  {
   "cell_type": "code",
   "execution_count": 30,
   "id": "1d562dc6",
   "metadata": {},
   "outputs": [
    {
     "data": {
      "text/plain": [
       "array([[20,  6,  2],\n",
       "       [16,  3,  6],\n",
       "       [27,  6,  2],\n",
       "       [19,  1,  2],\n",
       "       [24,  4,  2],\n",
       "       [22,  1,  5],\n",
       "       [15,  4,  2],\n",
       "       [18,  4,  2],\n",
       "       [21,  1,  4],\n",
       "       [16,  2,  4]], dtype=int64)"
      ]
     },
     "execution_count": 30,
     "metadata": {},
     "output_type": "execute_result"
    }
   ],
   "source": [
    "basic_values"
   ]
  },
  {
   "cell_type": "code",
   "execution_count": 32,
   "id": "b684c4e7",
   "metadata": {},
   "outputs": [
    {
     "data": {
      "text/plain": [
       "array([[386],\n",
       "       [289],\n",
       "       [393],\n",
       "       [110],\n",
       "       [280],\n",
       "       [167],\n",
       "       [271],\n",
       "       [274],\n",
       "       [148],\n",
       "       [198]], dtype=int64)"
      ]
     },
     "execution_count": 32,
     "metadata": {},
     "output_type": "execute_result"
    }
   ],
   "source": [
    "final_values"
   ]
  },
  {
   "cell_type": "code",
   "execution_count": 34,
   "id": "1bfa4c92",
   "metadata": {},
   "outputs": [
    {
     "name": "stdout",
     "output_type": "stream",
     "text": [
      "the rank of basic values matrix: 3\n",
      "the rank of final values matrix: 1\n"
     ]
    }
   ],
   "source": [
    "#What is the rank of Matrix A?\n",
    "print(\"the rank of basic values matrix:\", np.linalg.matrix_rank(basic_values))\n",
    "print(\"the rank of final values matrix:\",np.linalg.matrix_rank(final_values))"
   ]
  },
  {
   "cell_type": "code",
   "execution_count": 45,
   "id": "e4a2e956",
   "metadata": {},
   "outputs": [
    {
     "name": "stdout",
     "output_type": "stream",
     "text": [
      "The Pseudo Inverse of basic values Matrix:  [[-0.01008596 -0.03124505  0.01013951  0.0290728   0.0182907   0.01161794\n",
      "  -0.00771348  0.00095458  0.01743623 -0.00542016]\n",
      " [ 0.09059668  0.07263726  0.03172933 -0.09071908 -0.01893196 -0.06926996\n",
      "   0.05675464  0.03152577 -0.07641966  0.00357352]\n",
      " [ 0.00299878  0.15874243 -0.05795468 -0.06609024 -0.06295043  0.03348017\n",
      "   0.01541831 -0.01070461  0.00029003  0.05938755]]\n"
     ]
    }
   ],
   "source": [
    "#A2\n",
    "#Use the Pseudo-inverse to calculate the model vector X for predicting the cost of the products \n",
    "#available with the vendor.\n",
    "print(\"The Pseudo Inverse of basic values Matrix: \", np.linalg.\n",
    "pinv(basic_values))"
   ]
  },
  {
   "cell_type": "code",
   "execution_count": 41,
   "id": "84568721",
   "metadata": {},
   "outputs": [
    {
     "data": {
      "text/plain": [
       "array([[ 1.],\n",
       "       [55.],\n",
       "       [18.]])"
      ]
     },
     "execution_count": 41,
     "metadata": {},
     "output_type": "execute_result"
    }
   ],
   "source": [
    "X = np.dot(psv_basicvalues,final_values)\n",
    "X"
   ]
  },
  {
   "cell_type": "code",
   "execution_count": 47,
   "id": "992b25ae",
   "metadata": {},
   "outputs": [],
   "source": [
    "basic_values = purchase_data.iloc[:,1:4]\n",
    "final_values = purchase_data.iloc[:,4:5]"
   ]
  },
  {
   "cell_type": "code",
   "execution_count": 48,
   "id": "bf3cc760",
   "metadata": {},
   "outputs": [
    {
     "data": {
      "text/html": [
       "<div>\n",
       "<style scoped>\n",
       "    .dataframe tbody tr th:only-of-type {\n",
       "        vertical-align: middle;\n",
       "    }\n",
       "\n",
       "    .dataframe tbody tr th {\n",
       "        vertical-align: top;\n",
       "    }\n",
       "\n",
       "    .dataframe thead th {\n",
       "        text-align: right;\n",
       "    }\n",
       "</style>\n",
       "<table border=\"1\" class=\"dataframe\">\n",
       "  <thead>\n",
       "    <tr style=\"text-align: right;\">\n",
       "      <th></th>\n",
       "      <th>Candies (#)</th>\n",
       "      <th>Mangoes (Kg)</th>\n",
       "      <th>Milk Packets (#)</th>\n",
       "    </tr>\n",
       "  </thead>\n",
       "  <tbody>\n",
       "    <tr>\n",
       "      <th>0</th>\n",
       "      <td>20</td>\n",
       "      <td>6</td>\n",
       "      <td>2</td>\n",
       "    </tr>\n",
       "    <tr>\n",
       "      <th>1</th>\n",
       "      <td>16</td>\n",
       "      <td>3</td>\n",
       "      <td>6</td>\n",
       "    </tr>\n",
       "    <tr>\n",
       "      <th>2</th>\n",
       "      <td>27</td>\n",
       "      <td>6</td>\n",
       "      <td>2</td>\n",
       "    </tr>\n",
       "    <tr>\n",
       "      <th>3</th>\n",
       "      <td>19</td>\n",
       "      <td>1</td>\n",
       "      <td>2</td>\n",
       "    </tr>\n",
       "    <tr>\n",
       "      <th>4</th>\n",
       "      <td>24</td>\n",
       "      <td>4</td>\n",
       "      <td>2</td>\n",
       "    </tr>\n",
       "    <tr>\n",
       "      <th>5</th>\n",
       "      <td>22</td>\n",
       "      <td>1</td>\n",
       "      <td>5</td>\n",
       "    </tr>\n",
       "    <tr>\n",
       "      <th>6</th>\n",
       "      <td>15</td>\n",
       "      <td>4</td>\n",
       "      <td>2</td>\n",
       "    </tr>\n",
       "    <tr>\n",
       "      <th>7</th>\n",
       "      <td>18</td>\n",
       "      <td>4</td>\n",
       "      <td>2</td>\n",
       "    </tr>\n",
       "    <tr>\n",
       "      <th>8</th>\n",
       "      <td>21</td>\n",
       "      <td>1</td>\n",
       "      <td>4</td>\n",
       "    </tr>\n",
       "    <tr>\n",
       "      <th>9</th>\n",
       "      <td>16</td>\n",
       "      <td>2</td>\n",
       "      <td>4</td>\n",
       "    </tr>\n",
       "  </tbody>\n",
       "</table>\n",
       "</div>"
      ],
      "text/plain": [
       "   Candies (#)  Mangoes (Kg)  Milk Packets (#)\n",
       "0           20             6                 2\n",
       "1           16             3                 6\n",
       "2           27             6                 2\n",
       "3           19             1                 2\n",
       "4           24             4                 2\n",
       "5           22             1                 5\n",
       "6           15             4                 2\n",
       "7           18             4                 2\n",
       "8           21             1                 4\n",
       "9           16             2                 4"
      ]
     },
     "execution_count": 48,
     "metadata": {},
     "output_type": "execute_result"
    }
   ],
   "source": [
    "basic_values"
   ]
  },
  {
   "cell_type": "code",
   "execution_count": 49,
   "id": "8f3cb92e",
   "metadata": {},
   "outputs": [
    {
     "data": {
      "text/html": [
       "<div>\n",
       "<style scoped>\n",
       "    .dataframe tbody tr th:only-of-type {\n",
       "        vertical-align: middle;\n",
       "    }\n",
       "\n",
       "    .dataframe tbody tr th {\n",
       "        vertical-align: top;\n",
       "    }\n",
       "\n",
       "    .dataframe thead th {\n",
       "        text-align: right;\n",
       "    }\n",
       "</style>\n",
       "<table border=\"1\" class=\"dataframe\">\n",
       "  <thead>\n",
       "    <tr style=\"text-align: right;\">\n",
       "      <th></th>\n",
       "      <th>Payment (Rs)</th>\n",
       "    </tr>\n",
       "  </thead>\n",
       "  <tbody>\n",
       "    <tr>\n",
       "      <th>0</th>\n",
       "      <td>386</td>\n",
       "    </tr>\n",
       "    <tr>\n",
       "      <th>1</th>\n",
       "      <td>289</td>\n",
       "    </tr>\n",
       "    <tr>\n",
       "      <th>2</th>\n",
       "      <td>393</td>\n",
       "    </tr>\n",
       "    <tr>\n",
       "      <th>3</th>\n",
       "      <td>110</td>\n",
       "    </tr>\n",
       "    <tr>\n",
       "      <th>4</th>\n",
       "      <td>280</td>\n",
       "    </tr>\n",
       "    <tr>\n",
       "      <th>5</th>\n",
       "      <td>167</td>\n",
       "    </tr>\n",
       "    <tr>\n",
       "      <th>6</th>\n",
       "      <td>271</td>\n",
       "    </tr>\n",
       "    <tr>\n",
       "      <th>7</th>\n",
       "      <td>274</td>\n",
       "    </tr>\n",
       "    <tr>\n",
       "      <th>8</th>\n",
       "      <td>148</td>\n",
       "    </tr>\n",
       "    <tr>\n",
       "      <th>9</th>\n",
       "      <td>198</td>\n",
       "    </tr>\n",
       "  </tbody>\n",
       "</table>\n",
       "</div>"
      ],
      "text/plain": [
       "   Payment (Rs)\n",
       "0           386\n",
       "1           289\n",
       "2           393\n",
       "3           110\n",
       "4           280\n",
       "5           167\n",
       "6           271\n",
       "7           274\n",
       "8           148\n",
       "9           198"
      ]
     },
     "execution_count": 49,
     "metadata": {},
     "output_type": "execute_result"
    }
   ],
   "source": [
    "final_values"
   ]
  },
  {
   "cell_type": "code",
   "execution_count": 115,
   "id": "4647dbb0",
   "metadata": {},
   "outputs": [],
   "source": [
    "#A3\n",
    "basic_values[\"Payment (Rs)\"] = final_values[\"Payment (Rs)\"].astype('int64')"
   ]
  },
  {
   "cell_type": "code",
   "execution_count": 117,
   "id": "5eb4b5e3",
   "metadata": {},
   "outputs": [],
   "source": [
    "#A3. Mark all customers (in “Purchase Data” table) with payments above Rs. 200 as RICH and others \n",
    "#as POOR. Develop a classifier model to categorize customers into RICH or POOR class based on \n",
    "#purchase behavior\n",
    "\n",
    "def RichORpoor(define):\n",
    "    if(int(define['Payment (Rs)']>200)):\n",
    "        return 'RICH'\n",
    "    else:\n",
    "        return'POOR'\n",
    "final_values['Payment (Rs)'] = final_values.apply(RichORpoor, axis=1)"
   ]
  },
  {
   "cell_type": "code",
   "execution_count": 118,
   "id": "66544d64",
   "metadata": {},
   "outputs": [
    {
     "data": {
      "text/html": [
       "<div>\n",
       "<style scoped>\n",
       "    .dataframe tbody tr th:only-of-type {\n",
       "        vertical-align: middle;\n",
       "    }\n",
       "\n",
       "    .dataframe tbody tr th {\n",
       "        vertical-align: top;\n",
       "    }\n",
       "\n",
       "    .dataframe thead th {\n",
       "        text-align: right;\n",
       "    }\n",
       "</style>\n",
       "<table border=\"1\" class=\"dataframe\">\n",
       "  <thead>\n",
       "    <tr style=\"text-align: right;\">\n",
       "      <th></th>\n",
       "      <th>Payment (Rs)</th>\n",
       "    </tr>\n",
       "  </thead>\n",
       "  <tbody>\n",
       "    <tr>\n",
       "      <th>0</th>\n",
       "      <td>RICH</td>\n",
       "    </tr>\n",
       "    <tr>\n",
       "      <th>1</th>\n",
       "      <td>RICH</td>\n",
       "    </tr>\n",
       "    <tr>\n",
       "      <th>2</th>\n",
       "      <td>RICH</td>\n",
       "    </tr>\n",
       "    <tr>\n",
       "      <th>3</th>\n",
       "      <td>POOR</td>\n",
       "    </tr>\n",
       "    <tr>\n",
       "      <th>4</th>\n",
       "      <td>RICH</td>\n",
       "    </tr>\n",
       "    <tr>\n",
       "      <th>5</th>\n",
       "      <td>POOR</td>\n",
       "    </tr>\n",
       "    <tr>\n",
       "      <th>6</th>\n",
       "      <td>RICH</td>\n",
       "    </tr>\n",
       "    <tr>\n",
       "      <th>7</th>\n",
       "      <td>RICH</td>\n",
       "    </tr>\n",
       "    <tr>\n",
       "      <th>8</th>\n",
       "      <td>POOR</td>\n",
       "    </tr>\n",
       "    <tr>\n",
       "      <th>9</th>\n",
       "      <td>POOR</td>\n",
       "    </tr>\n",
       "  </tbody>\n",
       "</table>\n",
       "</div>"
      ],
      "text/plain": [
       "  Payment (Rs)\n",
       "0         RICH\n",
       "1         RICH\n",
       "2         RICH\n",
       "3         POOR\n",
       "4         RICH\n",
       "5         POOR\n",
       "6         RICH\n",
       "7         RICH\n",
       "8         POOR\n",
       "9         POOR"
      ]
     },
     "execution_count": 118,
     "metadata": {},
     "output_type": "execute_result"
    }
   ],
   "source": [
    "final_values"
   ]
  },
  {
   "cell_type": "code",
   "execution_count": 119,
   "id": "35e41573",
   "metadata": {},
   "outputs": [],
   "source": [
    "from sklearn.linear_model import LogisticRegression"
   ]
  },
  {
   "cell_type": "code",
   "execution_count": 120,
   "id": "fc1572cc",
   "metadata": {},
   "outputs": [],
   "source": [
    "logistic_regression = LogisticRegression()\n"
   ]
  },
  {
   "cell_type": "code",
   "execution_count": 122,
   "id": "91f8a0f1",
   "metadata": {},
   "outputs": [],
   "source": [
    "from sklearn.model_selection import train_test_split\n",
    "X_train, X_test, y_train, y_test = train_test_split(basic_values, final_values,\n",
    "test_size=0.30, random_state=42)"
   ]
  },
  {
   "cell_type": "code",
   "execution_count": 123,
   "id": "fdc307bc",
   "metadata": {},
   "outputs": [
    {
     "data": {
      "text/html": [
       "<style>#sk-container-id-4 {color: black;background-color: white;}#sk-container-id-4 pre{padding: 0;}#sk-container-id-4 div.sk-toggleable {background-color: white;}#sk-container-id-4 label.sk-toggleable__label {cursor: pointer;display: block;width: 100%;margin-bottom: 0;padding: 0.3em;box-sizing: border-box;text-align: center;}#sk-container-id-4 label.sk-toggleable__label-arrow:before {content: \"▸\";float: left;margin-right: 0.25em;color: #696969;}#sk-container-id-4 label.sk-toggleable__label-arrow:hover:before {color: black;}#sk-container-id-4 div.sk-estimator:hover label.sk-toggleable__label-arrow:before {color: black;}#sk-container-id-4 div.sk-toggleable__content {max-height: 0;max-width: 0;overflow: hidden;text-align: left;background-color: #f0f8ff;}#sk-container-id-4 div.sk-toggleable__content pre {margin: 0.2em;color: black;border-radius: 0.25em;background-color: #f0f8ff;}#sk-container-id-4 input.sk-toggleable__control:checked~div.sk-toggleable__content {max-height: 200px;max-width: 100%;overflow: auto;}#sk-container-id-4 input.sk-toggleable__control:checked~label.sk-toggleable__label-arrow:before {content: \"▾\";}#sk-container-id-4 div.sk-estimator input.sk-toggleable__control:checked~label.sk-toggleable__label {background-color: #d4ebff;}#sk-container-id-4 div.sk-label input.sk-toggleable__control:checked~label.sk-toggleable__label {background-color: #d4ebff;}#sk-container-id-4 input.sk-hidden--visually {border: 0;clip: rect(1px 1px 1px 1px);clip: rect(1px, 1px, 1px, 1px);height: 1px;margin: -1px;overflow: hidden;padding: 0;position: absolute;width: 1px;}#sk-container-id-4 div.sk-estimator {font-family: monospace;background-color: #f0f8ff;border: 1px dotted black;border-radius: 0.25em;box-sizing: border-box;margin-bottom: 0.5em;}#sk-container-id-4 div.sk-estimator:hover {background-color: #d4ebff;}#sk-container-id-4 div.sk-parallel-item::after {content: \"\";width: 100%;border-bottom: 1px solid gray;flex-grow: 1;}#sk-container-id-4 div.sk-label:hover label.sk-toggleable__label {background-color: #d4ebff;}#sk-container-id-4 div.sk-serial::before {content: \"\";position: absolute;border-left: 1px solid gray;box-sizing: border-box;top: 0;bottom: 0;left: 50%;z-index: 0;}#sk-container-id-4 div.sk-serial {display: flex;flex-direction: column;align-items: center;background-color: white;padding-right: 0.2em;padding-left: 0.2em;position: relative;}#sk-container-id-4 div.sk-item {position: relative;z-index: 1;}#sk-container-id-4 div.sk-parallel {display: flex;align-items: stretch;justify-content: center;background-color: white;position: relative;}#sk-container-id-4 div.sk-item::before, #sk-container-id-4 div.sk-parallel-item::before {content: \"\";position: absolute;border-left: 1px solid gray;box-sizing: border-box;top: 0;bottom: 0;left: 50%;z-index: -1;}#sk-container-id-4 div.sk-parallel-item {display: flex;flex-direction: column;z-index: 1;position: relative;background-color: white;}#sk-container-id-4 div.sk-parallel-item:first-child::after {align-self: flex-end;width: 50%;}#sk-container-id-4 div.sk-parallel-item:last-child::after {align-self: flex-start;width: 50%;}#sk-container-id-4 div.sk-parallel-item:only-child::after {width: 0;}#sk-container-id-4 div.sk-dashed-wrapped {border: 1px dashed gray;margin: 0 0.4em 0.5em 0.4em;box-sizing: border-box;padding-bottom: 0.4em;background-color: white;}#sk-container-id-4 div.sk-label label {font-family: monospace;font-weight: bold;display: inline-block;line-height: 1.2em;}#sk-container-id-4 div.sk-label-container {text-align: center;}#sk-container-id-4 div.sk-container {/* jupyter's `normalize.less` sets `[hidden] { display: none; }` but bootstrap.min.css set `[hidden] { display: none !important; }` so we also need the `!important` here to be able to override the default hidden behavior on the sphinx rendered scikit-learn.org. See: https://github.com/scikit-learn/scikit-learn/issues/21755 */display: inline-block !important;position: relative;}#sk-container-id-4 div.sk-text-repr-fallback {display: none;}</style><div id=\"sk-container-id-4\" class=\"sk-top-container\"><div class=\"sk-text-repr-fallback\"><pre>LogisticRegression()</pre><b>In a Jupyter environment, please rerun this cell to show the HTML representation or trust the notebook. <br />On GitHub, the HTML representation is unable to render, please try loading this page with nbviewer.org.</b></div><div class=\"sk-container\" hidden><div class=\"sk-item\"><div class=\"sk-estimator sk-toggleable\"><input class=\"sk-toggleable__control sk-hidden--visually\" id=\"sk-estimator-id-4\" type=\"checkbox\" checked><label for=\"sk-estimator-id-4\" class=\"sk-toggleable__label sk-toggleable__label-arrow\">LogisticRegression</label><div class=\"sk-toggleable__content\"><pre>LogisticRegression()</pre></div></div></div></div></div>"
      ],
      "text/plain": [
       "LogisticRegression()"
      ]
     },
     "execution_count": 123,
     "metadata": {},
     "output_type": "execute_result"
    }
   ],
   "source": [
    "logistic_regression.fit(X_train,y_train.values.ravel())\n"
   ]
  },
  {
   "cell_type": "code",
   "execution_count": 124,
   "id": "442d10e5",
   "metadata": {},
   "outputs": [],
   "source": [
    "y_prediction=logistic_regression.predict(X_test)"
   ]
  },
  {
   "cell_type": "code",
   "execution_count": 125,
   "id": "f4f62821",
   "metadata": {},
   "outputs": [
    {
     "data": {
      "text/plain": [
       "array(['POOR', 'POOR', 'POOR'], dtype=object)"
      ]
     },
     "execution_count": 125,
     "metadata": {},
     "output_type": "execute_result"
    }
   ],
   "source": [
    "y_prediction"
   ]
  },
  {
   "cell_type": "code",
   "execution_count": 126,
   "id": "dc08b068",
   "metadata": {},
   "outputs": [
    {
     "data": {
      "text/html": [
       "<div>\n",
       "<style scoped>\n",
       "    .dataframe tbody tr th:only-of-type {\n",
       "        vertical-align: middle;\n",
       "    }\n",
       "\n",
       "    .dataframe tbody tr th {\n",
       "        vertical-align: top;\n",
       "    }\n",
       "\n",
       "    .dataframe thead th {\n",
       "        text-align: right;\n",
       "    }\n",
       "</style>\n",
       "<table border=\"1\" class=\"dataframe\">\n",
       "  <thead>\n",
       "    <tr style=\"text-align: right;\">\n",
       "      <th></th>\n",
       "      <th>Candies (#)</th>\n",
       "      <th>Mangoes (Kg)</th>\n",
       "      <th>Milk Packets (#)</th>\n",
       "    </tr>\n",
       "  </thead>\n",
       "  <tbody>\n",
       "    <tr>\n",
       "      <th>8</th>\n",
       "      <td>21</td>\n",
       "      <td>1</td>\n",
       "      <td>4</td>\n",
       "    </tr>\n",
       "    <tr>\n",
       "      <th>1</th>\n",
       "      <td>16</td>\n",
       "      <td>3</td>\n",
       "      <td>6</td>\n",
       "    </tr>\n",
       "    <tr>\n",
       "      <th>5</th>\n",
       "      <td>22</td>\n",
       "      <td>1</td>\n",
       "      <td>5</td>\n",
       "    </tr>\n",
       "  </tbody>\n",
       "</table>\n",
       "</div>"
      ],
      "text/plain": [
       "   Candies (#)  Mangoes (Kg)  Milk Packets (#)\n",
       "8           21             1                 4\n",
       "1           16             3                 6\n",
       "5           22             1                 5"
      ]
     },
     "execution_count": 126,
     "metadata": {},
     "output_type": "execute_result"
    }
   ],
   "source": [
    "X_test"
   ]
  },
  {
   "cell_type": "code",
   "execution_count": 131,
   "id": "d8fbb9cb",
   "metadata": {},
   "outputs": [
    {
     "data": {
      "text/plain": [
       "Text(0.5, 1.0, 'Conf Matrix - Logistic Regression')"
      ]
     },
     "execution_count": 131,
     "metadata": {},
     "output_type": "execute_result"
    },
    {
     "data": {
      "image/png": "[encoded data removed]",
      "text/plain": [
       "<Figure size 1200x1000 with 2 Axes>"
      ]
     },
     "metadata": {},
     "output_type": "display_data"
    }
   ],
   "source": [
    "from sklearn.metrics import confusion_matrix #confusion matrix\n",
    "cm = confusion_matrix(y_test, y_pred)\n",
    "cm\n",
    "import seaborn as sn\n",
    "import matplotlib.pyplot as plt\n",
    "plt.figure(figsize = (12,10))\n",
    "sn.heatmap(cm, annot=True, cmap= 'magma', fmt='d', cbar=True)\n",
    "plt.xlabel('Predictedlabel')\n",
    "plt.ylabel('Truthlabel')\n",
    "plt.title('Conf Matrix - Logistic Regression')"
   ]
  },
  {
   "cell_type": "code",
   "execution_count": 128,
   "id": "324eeb77",
   "metadata": {},
   "outputs": [],
   "source": [
    "import pandas as pd\n",
    "import numpy as np"
   ]
  },
  {
   "cell_type": "code",
   "execution_count": 173,
   "id": "e06d7287",
   "metadata": {},
   "outputs": [],
   "source": [
    "#A4 Please refer to the data present in “IRCTC Stock Price” data sheet of the above excel file. Do the \n",
    "#following after loading the data to your programming platform.\n",
    "\n",
    "irctc_data = pd.read_csv('irctc_d_csv.csv')"
   ]
  },
  {
   "cell_type": "code",
   "execution_count": 174,
   "id": "a6446364",
   "metadata": {},
   "outputs": [],
   "source": [
    "irctc_stockprice = pd.DataFrame(irctc_data)"
   ]
  },
  {
   "cell_type": "code",
   "execution_count": 175,
   "id": "a2d91061",
   "metadata": {},
   "outputs": [
    {
     "data": {
      "text/html": [
       "<div>\n",
       "<style scoped>\n",
       "    .dataframe tbody tr th:only-of-type {\n",
       "        vertical-align: middle;\n",
       "    }\n",
       "\n",
       "    .dataframe tbody tr th {\n",
       "        vertical-align: top;\n",
       "    }\n",
       "\n",
       "    .dataframe thead th {\n",
       "        text-align: right;\n",
       "    }\n",
       "</style>\n",
       "<table border=\"1\" class=\"dataframe\">\n",
       "  <thead>\n",
       "    <tr style=\"text-align: right;\">\n",
       "      <th></th>\n",
       "      <th>Open</th>\n",
       "      <th>High</th>\n",
       "      <th>Low</th>\n",
       "      <th>Volume</th>\n",
       "      <th>Month</th>\n",
       "      <th>Date</th>\n",
       "      <th>Day</th>\n",
       "      <th>Year</th>\n",
       "      <th>Price</th>\n",
       "      <th>Chg</th>\n",
       "    </tr>\n",
       "  </thead>\n",
       "  <tbody>\n",
       "    <tr>\n",
       "      <th>0</th>\n",
       "      <td>2,092.00</td>\n",
       "      <td>2,126.90</td>\n",
       "      <td>2,065.05</td>\n",
       "      <td>1670000</td>\n",
       "      <td>Jun</td>\n",
       "      <td>29</td>\n",
       "      <td>Tue</td>\n",
       "      <td>2021</td>\n",
       "      <td>2081.85</td>\n",
       "      <td>0.0020</td>\n",
       "    </tr>\n",
       "    <tr>\n",
       "      <th>1</th>\n",
       "      <td>2,084.00</td>\n",
       "      <td>2,112.45</td>\n",
       "      <td>2,068.40</td>\n",
       "      <td>707730</td>\n",
       "      <td>Jun</td>\n",
       "      <td>28</td>\n",
       "      <td>Mon</td>\n",
       "      <td>2021</td>\n",
       "      <td>2077.75</td>\n",
       "      <td>0.0043</td>\n",
       "    </tr>\n",
       "    <tr>\n",
       "      <th>2</th>\n",
       "      <td>2,084.35</td>\n",
       "      <td>2,088.50</td>\n",
       "      <td>2,053.10</td>\n",
       "      <td>475820</td>\n",
       "      <td>Jun</td>\n",
       "      <td>25</td>\n",
       "      <td>Fri</td>\n",
       "      <td>2021</td>\n",
       "      <td>2068.85</td>\n",
       "      <td>-0.0020</td>\n",
       "    </tr>\n",
       "    <tr>\n",
       "      <th>3</th>\n",
       "      <td>2,098.00</td>\n",
       "      <td>2,098.00</td>\n",
       "      <td>2,066.00</td>\n",
       "      <td>541510</td>\n",
       "      <td>Jun</td>\n",
       "      <td>24</td>\n",
       "      <td>Thu</td>\n",
       "      <td>2021</td>\n",
       "      <td>2072.95</td>\n",
       "      <td>-0.0026</td>\n",
       "    </tr>\n",
       "    <tr>\n",
       "      <th>4</th>\n",
       "      <td>2,102.00</td>\n",
       "      <td>2,111.40</td>\n",
       "      <td>2,072.00</td>\n",
       "      <td>809620</td>\n",
       "      <td>Jun</td>\n",
       "      <td>23</td>\n",
       "      <td>Wed</td>\n",
       "      <td>2021</td>\n",
       "      <td>2078.25</td>\n",
       "      <td>-0.0023</td>\n",
       "    </tr>\n",
       "    <tr>\n",
       "      <th>...</th>\n",
       "      <td>...</td>\n",
       "      <td>...</td>\n",
       "      <td>...</td>\n",
       "      <td>...</td>\n",
       "      <td>...</td>\n",
       "      <td>...</td>\n",
       "      <td>...</td>\n",
       "      <td>...</td>\n",
       "      <td>...</td>\n",
       "      <td>...</td>\n",
       "    </tr>\n",
       "    <tr>\n",
       "      <th>244</th>\n",
       "      <td>1,410.00</td>\n",
       "      <td>1,411.00</td>\n",
       "      <td>1,390.05</td>\n",
       "      <td>480210</td>\n",
       "      <td>Jul</td>\n",
       "      <td>7</td>\n",
       "      <td>Tue</td>\n",
       "      <td>2020</td>\n",
       "      <td>1397.40</td>\n",
       "      <td>-0.0024</td>\n",
       "    </tr>\n",
       "    <tr>\n",
       "      <th>245</th>\n",
       "      <td>1,405.50</td>\n",
       "      <td>1,415.50</td>\n",
       "      <td>1,394.00</td>\n",
       "      <td>614930</td>\n",
       "      <td>Jul</td>\n",
       "      <td>6</td>\n",
       "      <td>Mon</td>\n",
       "      <td>2020</td>\n",
       "      <td>1400.75</td>\n",
       "      <td>-0.0031</td>\n",
       "    </tr>\n",
       "    <tr>\n",
       "      <th>246</th>\n",
       "      <td>1,415.00</td>\n",
       "      <td>1,425.00</td>\n",
       "      <td>1,398.00</td>\n",
       "      <td>599490</td>\n",
       "      <td>Jul</td>\n",
       "      <td>3</td>\n",
       "      <td>Fri</td>\n",
       "      <td>2020</td>\n",
       "      <td>1405.10</td>\n",
       "      <td>-0.0051</td>\n",
       "    </tr>\n",
       "    <tr>\n",
       "      <th>247</th>\n",
       "      <td>1,440.00</td>\n",
       "      <td>1,467.80</td>\n",
       "      <td>1,395.30</td>\n",
       "      <td>2160000</td>\n",
       "      <td>Jul</td>\n",
       "      <td>2</td>\n",
       "      <td>Thu</td>\n",
       "      <td>2020</td>\n",
       "      <td>1412.35</td>\n",
       "      <td>0.0362</td>\n",
       "    </tr>\n",
       "    <tr>\n",
       "      <th>248</th>\n",
       "      <td>1,363.65</td>\n",
       "      <td>1,377.00</td>\n",
       "      <td>1,356.00</td>\n",
       "      <td>383000</td>\n",
       "      <td>Jul</td>\n",
       "      <td>1</td>\n",
       "      <td>Wed</td>\n",
       "      <td>2020</td>\n",
       "      <td>1363.05</td>\n",
       "      <td>0.0032</td>\n",
       "    </tr>\n",
       "  </tbody>\n",
       "</table>\n",
       "<p>249 rows × 10 columns</p>\n",
       "</div>"
      ],
      "text/plain": [
       "         Open      High       Low   Volume Month  Date  Day  Year    Price  \\\n",
       "0    2,092.00  2,126.90  2,065.05  1670000   Jun    29  Tue  2021  2081.85   \n",
       "1    2,084.00  2,112.45  2,068.40   707730   Jun    28  Mon  2021  2077.75   \n",
       "2    2,084.35  2,088.50  2,053.10   475820   Jun    25  Fri  2021  2068.85   \n",
       "3    2,098.00  2,098.00  2,066.00   541510   Jun    24  Thu  2021  2072.95   \n",
       "4    2,102.00  2,111.40  2,072.00   809620   Jun    23  Wed  2021  2078.25   \n",
       "..        ...       ...       ...      ...   ...   ...  ...   ...      ...   \n",
       "244  1,410.00  1,411.00  1,390.05   480210   Jul     7  Tue  2020  1397.40   \n",
       "245  1,405.50  1,415.50  1,394.00   614930   Jul     6  Mon  2020  1400.75   \n",
       "246  1,415.00  1,425.00  1,398.00   599490   Jul     3  Fri  2020  1405.10   \n",
       "247  1,440.00  1,467.80  1,395.30  2160000   Jul     2  Thu  2020  1412.35   \n",
       "248  1,363.65  1,377.00  1,356.00   383000   Jul     1  Wed  2020  1363.05   \n",
       "\n",
       "        Chg  \n",
       "0    0.0020  \n",
       "1    0.0043  \n",
       "2   -0.0020  \n",
       "3   -0.0026  \n",
       "4   -0.0023  \n",
       "..      ...  \n",
       "244 -0.0024  \n",
       "245 -0.0031  \n",
       "246 -0.0051  \n",
       "247  0.0362  \n",
       "248  0.0032  \n",
       "\n",
       "[249 rows x 10 columns]"
      ]
     },
     "execution_count": 175,
     "metadata": {},
     "output_type": "execute_result"
    }
   ],
   "source": [
    "irctc_stockprice"
   ]
  },
  {
   "cell_type": "code",
   "execution_count": 176,
   "id": "1c63aa35",
   "metadata": {},
   "outputs": [
    {
     "data": {
      "text/plain": [
       "(249, 10)"
      ]
     },
     "execution_count": 176,
     "metadata": {},
     "output_type": "execute_result"
    }
   ],
   "source": [
    "irctc_data.shape"
   ]
  },
  {
   "cell_type": "code",
   "execution_count": 159,
   "id": "5e6d5510",
   "metadata": {},
   "outputs": [
    {
     "data": {
      "text/html": [
       "<div>\n",
       "<style scoped>\n",
       "    .dataframe tbody tr th:only-of-type {\n",
       "        vertical-align: middle;\n",
       "    }\n",
       "\n",
       "    .dataframe tbody tr th {\n",
       "        vertical-align: top;\n",
       "    }\n",
       "\n",
       "    .dataframe thead th {\n",
       "        text-align: right;\n",
       "    }\n",
       "</style>\n",
       "<table border=\"1\" class=\"dataframe\">\n",
       "  <thead>\n",
       "    <tr style=\"text-align: right;\">\n",
       "      <th></th>\n",
       "      <th>Date</th>\n",
       "      <th>Month</th>\n",
       "      <th>Day</th>\n",
       "      <th>Price</th>\n",
       "      <th>Open</th>\n",
       "      <th>High</th>\n",
       "      <th>Low</th>\n",
       "      <th>Volume</th>\n",
       "      <th>Chg%</th>\n",
       "    </tr>\n",
       "  </thead>\n",
       "  <tbody>\n",
       "    <tr>\n",
       "      <th>0</th>\n",
       "      <td>Jun 29, 2021</td>\n",
       "      <td>Jun</td>\n",
       "      <td>Tue</td>\n",
       "      <td>2,081.85</td>\n",
       "      <td>2,092.00</td>\n",
       "      <td>2,126.90</td>\n",
       "      <td>2,065.05</td>\n",
       "      <td>1.67M</td>\n",
       "      <td>0.20%</td>\n",
       "    </tr>\n",
       "    <tr>\n",
       "      <th>1</th>\n",
       "      <td>Jun 28, 2021</td>\n",
       "      <td>Jun</td>\n",
       "      <td>Mon</td>\n",
       "      <td>2,077.75</td>\n",
       "      <td>2,084.00</td>\n",
       "      <td>2,112.45</td>\n",
       "      <td>2,068.40</td>\n",
       "      <td>707.73K</td>\n",
       "      <td>0.43%</td>\n",
       "    </tr>\n",
       "    <tr>\n",
       "      <th>2</th>\n",
       "      <td>Jun 25, 2021</td>\n",
       "      <td>Jun</td>\n",
       "      <td>Fri</td>\n",
       "      <td>2,068.85</td>\n",
       "      <td>2,084.35</td>\n",
       "      <td>2,088.50</td>\n",
       "      <td>2,053.10</td>\n",
       "      <td>475.82K</td>\n",
       "      <td>-0.20%</td>\n",
       "    </tr>\n",
       "    <tr>\n",
       "      <th>3</th>\n",
       "      <td>Jun 24, 2021</td>\n",
       "      <td>Jun</td>\n",
       "      <td>Thu</td>\n",
       "      <td>2,072.95</td>\n",
       "      <td>2,098.00</td>\n",
       "      <td>2,098.00</td>\n",
       "      <td>2,066.00</td>\n",
       "      <td>541.51K</td>\n",
       "      <td>-0.26%</td>\n",
       "    </tr>\n",
       "    <tr>\n",
       "      <th>4</th>\n",
       "      <td>Jun 23, 2021</td>\n",
       "      <td>Jun</td>\n",
       "      <td>Wed</td>\n",
       "      <td>2,078.25</td>\n",
       "      <td>2,102.00</td>\n",
       "      <td>2,111.40</td>\n",
       "      <td>2,072.00</td>\n",
       "      <td>809.62K</td>\n",
       "      <td>-0.23%</td>\n",
       "    </tr>\n",
       "  </tbody>\n",
       "</table>\n",
       "</div>"
      ],
      "text/plain": [
       "           Date Month  Day     Price      Open      High       Low   Volume  \\\n",
       "0  Jun 29, 2021   Jun  Tue  2,081.85  2,092.00  2,126.90  2,065.05    1.67M   \n",
       "1  Jun 28, 2021   Jun  Mon  2,077.75  2,084.00  2,112.45  2,068.40  707.73K   \n",
       "2  Jun 25, 2021   Jun  Fri  2,068.85  2,084.35  2,088.50  2,053.10  475.82K   \n",
       "3  Jun 24, 2021   Jun  Thu  2,072.95  2,098.00  2,098.00  2,066.00  541.51K   \n",
       "4  Jun 23, 2021   Jun  Wed  2,078.25  2,102.00  2,111.40  2,072.00  809.62K   \n",
       "\n",
       "     Chg%  \n",
       "0   0.20%  \n",
       "1   0.43%  \n",
       "2  -0.20%  \n",
       "3  -0.26%  \n",
       "4  -0.23%  "
      ]
     },
     "execution_count": 159,
     "metadata": {},
     "output_type": "execute_result"
    }
   ],
   "source": [
    "irctc_data.head()"
   ]
  },
  {
   "cell_type": "code",
   "execution_count": 177,
   "id": "fa568eef",
   "metadata": {},
   "outputs": [
    {
     "data": {
      "text/html": [
       "<div>\n",
       "<style scoped>\n",
       "    .dataframe tbody tr th:only-of-type {\n",
       "        vertical-align: middle;\n",
       "    }\n",
       "\n",
       "    .dataframe tbody tr th {\n",
       "        vertical-align: top;\n",
       "    }\n",
       "\n",
       "    .dataframe thead th {\n",
       "        text-align: right;\n",
       "    }\n",
       "</style>\n",
       "<table border=\"1\" class=\"dataframe\">\n",
       "  <thead>\n",
       "    <tr style=\"text-align: right;\">\n",
       "      <th></th>\n",
       "      <th>Volume</th>\n",
       "      <th>Date</th>\n",
       "      <th>Year</th>\n",
       "      <th>Price</th>\n",
       "      <th>Chg</th>\n",
       "    </tr>\n",
       "  </thead>\n",
       "  <tbody>\n",
       "    <tr>\n",
       "      <th>count</th>\n",
       "      <td>2.490000e+02</td>\n",
       "      <td>249.000000</td>\n",
       "      <td>249.000000</td>\n",
       "      <td>249.000000</td>\n",
       "      <td>249.000000</td>\n",
       "    </tr>\n",
       "    <tr>\n",
       "      <th>mean</th>\n",
       "      <td>1.516055e+06</td>\n",
       "      <td>15.534137</td>\n",
       "      <td>2020.485944</td>\n",
       "      <td>1560.663454</td>\n",
       "      <td>0.001964</td>\n",
       "    </tr>\n",
       "    <tr>\n",
       "      <th>std</th>\n",
       "      <td>2.011121e+06</td>\n",
       "      <td>8.768060</td>\n",
       "      <td>0.500809</td>\n",
       "      <td>242.347613</td>\n",
       "      <td>0.022488</td>\n",
       "    </tr>\n",
       "    <tr>\n",
       "      <th>min</th>\n",
       "      <td>8.450000e+04</td>\n",
       "      <td>1.000000</td>\n",
       "      <td>2020.000000</td>\n",
       "      <td>1300.550000</td>\n",
       "      <td>-0.102000</td>\n",
       "    </tr>\n",
       "    <tr>\n",
       "      <th>25%</th>\n",
       "      <td>3.939900e+05</td>\n",
       "      <td>8.000000</td>\n",
       "      <td>2020.000000</td>\n",
       "      <td>1366.500000</td>\n",
       "      <td>-0.006400</td>\n",
       "    </tr>\n",
       "    <tr>\n",
       "      <th>50%</th>\n",
       "      <td>9.374900e+05</td>\n",
       "      <td>16.000000</td>\n",
       "      <td>2020.000000</td>\n",
       "      <td>1438.250000</td>\n",
       "      <td>0.000000</td>\n",
       "    </tr>\n",
       "    <tr>\n",
       "      <th>75%</th>\n",
       "      <td>1.780000e+06</td>\n",
       "      <td>23.000000</td>\n",
       "      <td>2021.000000</td>\n",
       "      <td>1747.400000</td>\n",
       "      <td>0.009100</td>\n",
       "    </tr>\n",
       "    <tr>\n",
       "      <th>max</th>\n",
       "      <td>1.719000e+07</td>\n",
       "      <td>31.000000</td>\n",
       "      <td>2021.000000</td>\n",
       "      <td>2144.850000</td>\n",
       "      <td>0.139700</td>\n",
       "    </tr>\n",
       "  </tbody>\n",
       "</table>\n",
       "</div>"
      ],
      "text/plain": [
       "             Volume        Date         Year        Price         Chg\n",
       "count  2.490000e+02  249.000000   249.000000   249.000000  249.000000\n",
       "mean   1.516055e+06   15.534137  2020.485944  1560.663454    0.001964\n",
       "std    2.011121e+06    8.768060     0.500809   242.347613    0.022488\n",
       "min    8.450000e+04    1.000000  2020.000000  1300.550000   -0.102000\n",
       "25%    3.939900e+05    8.000000  2020.000000  1366.500000   -0.006400\n",
       "50%    9.374900e+05   16.000000  2020.000000  1438.250000    0.000000\n",
       "75%    1.780000e+06   23.000000  2021.000000  1747.400000    0.009100\n",
       "max    1.719000e+07   31.000000  2021.000000  2144.850000    0.139700"
      ]
     },
     "execution_count": 177,
     "metadata": {},
     "output_type": "execute_result"
    }
   ],
   "source": [
    "#Calculate the mean and variance of the Price data present in column D.\n",
    "irctc_data.describe()"
   ]
  },
  {
   "cell_type": "code",
   "execution_count": 178,
   "id": "3b7123c3",
   "metadata": {},
   "outputs": [
    {
     "name": "stdout",
     "output_type": "stream",
     "text": [
      "Variance :  58732.36535253918\n"
     ]
    }
   ],
   "source": [
    "#Calculate the mean and variance of the Price data present in column D.\n",
    "print(\"Variance : \", irctc_data['Price'].var())"
   ]
  },
  {
   "cell_type": "code",
   "execution_count": 179,
   "id": "0018bd9b",
   "metadata": {},
   "outputs": [],
   "source": [
    "#Select the price data for all Wednesdays and calculate the sample mean. Compare the mean \n",
    "#with the population mean and note your observations.\n",
    "irctc_wednesday = irctc_data.loc[irctc_data['Day'] == 'Wed', 'Price']"
   ]
  },
  {
   "cell_type": "code",
   "execution_count": 180,
   "id": "71432a6e",
   "metadata": {},
   "outputs": [
    {
     "data": {
      "text/plain": [
       "4      2078.25\n",
       "9      2089.95\n",
       "14     2071.20\n",
       "19     1917.95\n",
       "24     1894.05\n",
       "29     1858.10\n",
       "33     1746.60\n",
       "38     1723.65\n",
       "43     1795.85\n",
       "56     1709.00\n",
       "60     1757.00\n",
       "64     1760.55\n",
       "69     1824.00\n",
       "73     2018.50\n",
       "78     1886.10\n",
       "83     1675.45\n",
       "88     1698.65\n",
       "93     1618.40\n",
       "98     1469.35\n",
       "103    1438.25\n",
       "107    1452.70\n",
       "112    1461.15\n",
       "117    1483.45\n",
       "122    1434.95\n",
       "126    1411.55\n",
       "131    1423.40\n",
       "136    1617.75\n",
       "141    1349.90\n",
       "145    1353.90\n",
       "150    1365.30\n",
       "154    1371.25\n",
       "159    1300.55\n",
       "164    1333.35\n",
       "169    1331.75\n",
       "174    1338.05\n",
       "179    1356.90\n",
       "183    1384.00\n",
       "188    1372.85\n",
       "193    1367.40\n",
       "198    1348.90\n",
       "203    1359.75\n",
       "208    1369.30\n",
       "213    1361.80\n",
       "218    1386.80\n",
       "223    1336.95\n",
       "228    1352.75\n",
       "233    1372.95\n",
       "238    1351.95\n",
       "243    1390.10\n",
       "248    1363.05\n",
       "Name: Price, dtype: float64"
      ]
     },
     "execution_count": 180,
     "metadata": {},
     "output_type": "execute_result"
    }
   ],
   "source": [
    "irctc_wednesday"
   ]
  },
  {
   "cell_type": "code",
   "execution_count": 181,
   "id": "06e0853e",
   "metadata": {},
   "outputs": [
    {
     "data": {
      "text/plain": [
       "count      50.000000\n",
       "mean     1550.706000\n",
       "std       240.706357\n",
       "min      1300.550000\n",
       "25%      1362.112500\n",
       "50%      1429.175000\n",
       "75%      1740.862500\n",
       "max      2089.950000\n",
       "Name: Price, dtype: float64"
      ]
     },
     "execution_count": 181,
     "metadata": {},
     "output_type": "execute_result"
    }
   ],
   "source": [
    "irctc_wednesday.describe()"
   ]
  },
  {
   "cell_type": "code",
   "execution_count": 182,
   "id": "598d8b44",
   "metadata": {},
   "outputs": [],
   "source": [
    "#Select the price data for the month of Apr and calculate the sample mean. Compare the \n",
    "#mean with the population mean and note your observations.\n",
    "irctc_april = irctc_data.loc[irctc_data['Month'] == 'Apr', 'Price']"
   ]
  },
  {
   "cell_type": "code",
   "execution_count": 183,
   "id": "a643af26",
   "metadata": {},
   "outputs": [
    {
     "data": {
      "text/plain": [
       "41    1791.40\n",
       "42    1792.55\n",
       "43    1795.85\n",
       "44    1793.20\n",
       "45    1730.85\n",
       "46    1712.00\n",
       "47    1673.05\n",
       "48    1640.05\n",
       "49    1612.70\n",
       "50    1627.45\n",
       "51    1608.10\n",
       "52    1611.65\n",
       "53    1582.00\n",
       "54    1730.90\n",
       "55    1726.40\n",
       "56    1709.00\n",
       "57    1688.55\n",
       "58    1702.65\n",
       "59    1751.75\n",
       "Name: Price, dtype: float64"
      ]
     },
     "execution_count": 183,
     "metadata": {},
     "output_type": "execute_result"
    }
   ],
   "source": [
    "irctc_april"
   ]
  },
  {
   "cell_type": "code",
   "execution_count": 185,
   "id": "296d0452",
   "metadata": {},
   "outputs": [
    {
     "data": {
      "text/plain": [
       "count      19.000000\n",
       "mean     1698.952632\n",
       "std        69.839973\n",
       "min      1582.000000\n",
       "25%      1633.750000\n",
       "50%      1709.000000\n",
       "75%      1741.325000\n",
       "max      1795.850000\n",
       "Name: Price, dtype: float64"
      ]
     },
     "execution_count": 185,
     "metadata": {},
     "output_type": "execute_result"
    }
   ],
   "source": [
    "irctc_april.describe()"
   ]
  },
  {
   "cell_type": "code",
   "execution_count": 199,
   "id": "02d251c2",
   "metadata": {},
   "outputs": [],
   "source": [
    "#From the Chg% (available in column I) find the probability of making a loss over the stock.\n",
    "count_positive = irctc_data['Chg'].gt(0).sum()\n"
   ]
  },
  {
   "cell_type": "code",
   "execution_count": 200,
   "id": "2ec2b759",
   "metadata": {},
   "outputs": [
    {
     "name": "stdout",
     "output_type": "stream",
     "text": [
      "124\n"
     ]
    }
   ],
   "source": [
    "print(count_positive)"
   ]
  },
  {
   "cell_type": "code",
   "execution_count": 201,
   "id": "97bba6e8",
   "metadata": {},
   "outputs": [],
   "source": [
    " count_negative = irctc_data['Chg'].lt(0).sum()\n"
   ]
  },
  {
   "cell_type": "code",
   "execution_count": 202,
   "id": "61e38d24",
   "metadata": {},
   "outputs": [
    {
     "name": "stdout",
     "output_type": "stream",
     "text": [
      "124\n"
     ]
    }
   ],
   "source": [
    "print(count_negative)"
   ]
  },
  {
   "cell_type": "code",
   "execution_count": 203,
   "id": "003a9a75",
   "metadata": {},
   "outputs": [
    {
     "name": "stdout",
     "output_type": "stream",
     "text": [
      "0.5\n"
     ]
    }
   ],
   "source": [
    "loss_perc = (count_negative)/(count_negative + count_positive)\n",
    "print(loss_perc)"
   ]
  },
  {
   "cell_type": "code",
   "execution_count": 204,
   "id": "261e8700",
   "metadata": {},
   "outputs": [
    {
     "data": {
      "text/html": [
       "<div>\n",
       "<style scoped>\n",
       "    .dataframe tbody tr th:only-of-type {\n",
       "        vertical-align: middle;\n",
       "    }\n",
       "\n",
       "    .dataframe tbody tr th {\n",
       "        vertical-align: top;\n",
       "    }\n",
       "\n",
       "    .dataframe thead th {\n",
       "        text-align: right;\n",
       "    }\n",
       "</style>\n",
       "<table border=\"1\" class=\"dataframe\">\n",
       "  <thead>\n",
       "    <tr style=\"text-align: right;\">\n",
       "      <th></th>\n",
       "      <th>Open</th>\n",
       "      <th>High</th>\n",
       "      <th>Low</th>\n",
       "      <th>Volume</th>\n",
       "      <th>Month</th>\n",
       "      <th>Date</th>\n",
       "      <th>Day</th>\n",
       "      <th>Year</th>\n",
       "      <th>Price</th>\n",
       "      <th>Chg</th>\n",
       "    </tr>\n",
       "  </thead>\n",
       "  <tbody>\n",
       "    <tr>\n",
       "      <th>0</th>\n",
       "      <td>2,092.00</td>\n",
       "      <td>2,126.90</td>\n",
       "      <td>2,065.05</td>\n",
       "      <td>1670000</td>\n",
       "      <td>Jun</td>\n",
       "      <td>29</td>\n",
       "      <td>Tue</td>\n",
       "      <td>2021</td>\n",
       "      <td>2081.85</td>\n",
       "      <td>0.0020</td>\n",
       "    </tr>\n",
       "    <tr>\n",
       "      <th>1</th>\n",
       "      <td>2,084.00</td>\n",
       "      <td>2,112.45</td>\n",
       "      <td>2,068.40</td>\n",
       "      <td>707730</td>\n",
       "      <td>Jun</td>\n",
       "      <td>28</td>\n",
       "      <td>Mon</td>\n",
       "      <td>2021</td>\n",
       "      <td>2077.75</td>\n",
       "      <td>0.0043</td>\n",
       "    </tr>\n",
       "    <tr>\n",
       "      <th>2</th>\n",
       "      <td>2,084.35</td>\n",
       "      <td>2,088.50</td>\n",
       "      <td>2,053.10</td>\n",
       "      <td>475820</td>\n",
       "      <td>Jun</td>\n",
       "      <td>25</td>\n",
       "      <td>Fri</td>\n",
       "      <td>2021</td>\n",
       "      <td>2068.85</td>\n",
       "      <td>-0.0020</td>\n",
       "    </tr>\n",
       "    <tr>\n",
       "      <th>3</th>\n",
       "      <td>2,098.00</td>\n",
       "      <td>2,098.00</td>\n",
       "      <td>2,066.00</td>\n",
       "      <td>541510</td>\n",
       "      <td>Jun</td>\n",
       "      <td>24</td>\n",
       "      <td>Thu</td>\n",
       "      <td>2021</td>\n",
       "      <td>2072.95</td>\n",
       "      <td>-0.0026</td>\n",
       "    </tr>\n",
       "    <tr>\n",
       "      <th>4</th>\n",
       "      <td>2,102.00</td>\n",
       "      <td>2,111.40</td>\n",
       "      <td>2,072.00</td>\n",
       "      <td>809620</td>\n",
       "      <td>Jun</td>\n",
       "      <td>23</td>\n",
       "      <td>Wed</td>\n",
       "      <td>2021</td>\n",
       "      <td>2078.25</td>\n",
       "      <td>-0.0023</td>\n",
       "    </tr>\n",
       "    <tr>\n",
       "      <th>...</th>\n",
       "      <td>...</td>\n",
       "      <td>...</td>\n",
       "      <td>...</td>\n",
       "      <td>...</td>\n",
       "      <td>...</td>\n",
       "      <td>...</td>\n",
       "      <td>...</td>\n",
       "      <td>...</td>\n",
       "      <td>...</td>\n",
       "      <td>...</td>\n",
       "    </tr>\n",
       "    <tr>\n",
       "      <th>244</th>\n",
       "      <td>1,410.00</td>\n",
       "      <td>1,411.00</td>\n",
       "      <td>1,390.05</td>\n",
       "      <td>480210</td>\n",
       "      <td>Jul</td>\n",
       "      <td>7</td>\n",
       "      <td>Tue</td>\n",
       "      <td>2020</td>\n",
       "      <td>1397.40</td>\n",
       "      <td>-0.0024</td>\n",
       "    </tr>\n",
       "    <tr>\n",
       "      <th>245</th>\n",
       "      <td>1,405.50</td>\n",
       "      <td>1,415.50</td>\n",
       "      <td>1,394.00</td>\n",
       "      <td>614930</td>\n",
       "      <td>Jul</td>\n",
       "      <td>6</td>\n",
       "      <td>Mon</td>\n",
       "      <td>2020</td>\n",
       "      <td>1400.75</td>\n",
       "      <td>-0.0031</td>\n",
       "    </tr>\n",
       "    <tr>\n",
       "      <th>246</th>\n",
       "      <td>1,415.00</td>\n",
       "      <td>1,425.00</td>\n",
       "      <td>1,398.00</td>\n",
       "      <td>599490</td>\n",
       "      <td>Jul</td>\n",
       "      <td>3</td>\n",
       "      <td>Fri</td>\n",
       "      <td>2020</td>\n",
       "      <td>1405.10</td>\n",
       "      <td>-0.0051</td>\n",
       "    </tr>\n",
       "    <tr>\n",
       "      <th>247</th>\n",
       "      <td>1,440.00</td>\n",
       "      <td>1,467.80</td>\n",
       "      <td>1,395.30</td>\n",
       "      <td>2160000</td>\n",
       "      <td>Jul</td>\n",
       "      <td>2</td>\n",
       "      <td>Thu</td>\n",
       "      <td>2020</td>\n",
       "      <td>1412.35</td>\n",
       "      <td>0.0362</td>\n",
       "    </tr>\n",
       "    <tr>\n",
       "      <th>248</th>\n",
       "      <td>1,363.65</td>\n",
       "      <td>1,377.00</td>\n",
       "      <td>1,356.00</td>\n",
       "      <td>383000</td>\n",
       "      <td>Jul</td>\n",
       "      <td>1</td>\n",
       "      <td>Wed</td>\n",
       "      <td>2020</td>\n",
       "      <td>1363.05</td>\n",
       "      <td>0.0032</td>\n",
       "    </tr>\n",
       "  </tbody>\n",
       "</table>\n",
       "<p>249 rows × 10 columns</p>\n",
       "</div>"
      ],
      "text/plain": [
       "         Open      High       Low   Volume Month  Date  Day  Year    Price  \\\n",
       "0    2,092.00  2,126.90  2,065.05  1670000   Jun    29  Tue  2021  2081.85   \n",
       "1    2,084.00  2,112.45  2,068.40   707730   Jun    28  Mon  2021  2077.75   \n",
       "2    2,084.35  2,088.50  2,053.10   475820   Jun    25  Fri  2021  2068.85   \n",
       "3    2,098.00  2,098.00  2,066.00   541510   Jun    24  Thu  2021  2072.95   \n",
       "4    2,102.00  2,111.40  2,072.00   809620   Jun    23  Wed  2021  2078.25   \n",
       "..        ...       ...       ...      ...   ...   ...  ...   ...      ...   \n",
       "244  1,410.00  1,411.00  1,390.05   480210   Jul     7  Tue  2020  1397.40   \n",
       "245  1,405.50  1,415.50  1,394.00   614930   Jul     6  Mon  2020  1400.75   \n",
       "246  1,415.00  1,425.00  1,398.00   599490   Jul     3  Fri  2020  1405.10   \n",
       "247  1,440.00  1,467.80  1,395.30  2160000   Jul     2  Thu  2020  1412.35   \n",
       "248  1,363.65  1,377.00  1,356.00   383000   Jul     1  Wed  2020  1363.05   \n",
       "\n",
       "        Chg  \n",
       "0    0.0020  \n",
       "1    0.0043  \n",
       "2   -0.0020  \n",
       "3   -0.0026  \n",
       "4   -0.0023  \n",
       "..      ...  \n",
       "244 -0.0024  \n",
       "245 -0.0031  \n",
       "246 -0.0051  \n",
       "247  0.0362  \n",
       "248  0.0032  \n",
       "\n",
       "[249 rows x 10 columns]"
      ]
     },
     "execution_count": 204,
     "metadata": {},
     "output_type": "execute_result"
    }
   ],
   "source": [
    "irctc_data"
   ]
  },
  {
   "cell_type": "code",
   "execution_count": 205,
   "id": "acd97820",
   "metadata": {},
   "outputs": [],
   "source": [
    "#Calculate the probability of making a profit on Wednesday.\n",
    "#Calculate the conditional probability of making profit, given that today is Wednesday.\n",
    "irctc_wed_chg = irctc_data.loc[irctc_data['Day'] == 'Wed',\n",
    "[False,False,False,False,False,False,False,False,True,True]]"
   ]
  },
  {
   "cell_type": "code",
   "execution_count": 206,
   "id": "b50217ea",
   "metadata": {},
   "outputs": [
    {
     "data": {
      "text/html": [
       "<div>\n",
       "<style scoped>\n",
       "    .dataframe tbody tr th:only-of-type {\n",
       "        vertical-align: middle;\n",
       "    }\n",
       "\n",
       "    .dataframe tbody tr th {\n",
       "        vertical-align: top;\n",
       "    }\n",
       "\n",
       "    .dataframe thead th {\n",
       "        text-align: right;\n",
       "    }\n",
       "</style>\n",
       "<table border=\"1\" class=\"dataframe\">\n",
       "  <thead>\n",
       "    <tr style=\"text-align: right;\">\n",
       "      <th></th>\n",
       "      <th>Price</th>\n",
       "      <th>Chg</th>\n",
       "    </tr>\n",
       "  </thead>\n",
       "  <tbody>\n",
       "    <tr>\n",
       "      <th>4</th>\n",
       "      <td>2078.25</td>\n",
       "      <td>-0.0023</td>\n",
       "    </tr>\n",
       "    <tr>\n",
       "      <th>9</th>\n",
       "      <td>2089.95</td>\n",
       "      <td>-0.0038</td>\n",
       "    </tr>\n",
       "    <tr>\n",
       "      <th>14</th>\n",
       "      <td>2071.20</td>\n",
       "      <td>-0.0343</td>\n",
       "    </tr>\n",
       "    <tr>\n",
       "      <th>19</th>\n",
       "      <td>1917.95</td>\n",
       "      <td>0.0123</td>\n",
       "    </tr>\n",
       "    <tr>\n",
       "      <th>24</th>\n",
       "      <td>1894.05</td>\n",
       "      <td>-0.0073</td>\n",
       "    </tr>\n",
       "    <tr>\n",
       "      <th>29</th>\n",
       "      <td>1858.10</td>\n",
       "      <td>0.0126</td>\n",
       "    </tr>\n",
       "    <tr>\n",
       "      <th>33</th>\n",
       "      <td>1746.60</td>\n",
       "      <td>-0.0255</td>\n",
       "    </tr>\n",
       "    <tr>\n",
       "      <th>38</th>\n",
       "      <td>1723.65</td>\n",
       "      <td>-0.0263</td>\n",
       "    </tr>\n",
       "    <tr>\n",
       "      <th>43</th>\n",
       "      <td>1795.85</td>\n",
       "      <td>0.0015</td>\n",
       "    </tr>\n",
       "    <tr>\n",
       "      <th>56</th>\n",
       "      <td>1709.00</td>\n",
       "      <td>0.0121</td>\n",
       "    </tr>\n",
       "    <tr>\n",
       "      <th>60</th>\n",
       "      <td>1757.00</td>\n",
       "      <td>0.0010</td>\n",
       "    </tr>\n",
       "    <tr>\n",
       "      <th>64</th>\n",
       "      <td>1760.55</td>\n",
       "      <td>-0.0443</td>\n",
       "    </tr>\n",
       "    <tr>\n",
       "      <th>69</th>\n",
       "      <td>1824.00</td>\n",
       "      <td>-0.0420</td>\n",
       "    </tr>\n",
       "    <tr>\n",
       "      <th>73</th>\n",
       "      <td>2018.50</td>\n",
       "      <td>-0.0040</td>\n",
       "    </tr>\n",
       "    <tr>\n",
       "      <th>78</th>\n",
       "      <td>1886.10</td>\n",
       "      <td>-0.0061</td>\n",
       "    </tr>\n",
       "    <tr>\n",
       "      <th>83</th>\n",
       "      <td>1675.45</td>\n",
       "      <td>0.0261</td>\n",
       "    </tr>\n",
       "    <tr>\n",
       "      <th>88</th>\n",
       "      <td>1698.65</td>\n",
       "      <td>0.0146</td>\n",
       "    </tr>\n",
       "    <tr>\n",
       "      <th>93</th>\n",
       "      <td>1618.40</td>\n",
       "      <td>-0.0142</td>\n",
       "    </tr>\n",
       "    <tr>\n",
       "      <th>98</th>\n",
       "      <td>1469.35</td>\n",
       "      <td>-0.0008</td>\n",
       "    </tr>\n",
       "    <tr>\n",
       "      <th>103</th>\n",
       "      <td>1438.25</td>\n",
       "      <td>0.0084</td>\n",
       "    </tr>\n",
       "    <tr>\n",
       "      <th>107</th>\n",
       "      <td>1452.70</td>\n",
       "      <td>0.0064</td>\n",
       "    </tr>\n",
       "    <tr>\n",
       "      <th>112</th>\n",
       "      <td>1461.15</td>\n",
       "      <td>-0.0130</td>\n",
       "    </tr>\n",
       "    <tr>\n",
       "      <th>117</th>\n",
       "      <td>1483.45</td>\n",
       "      <td>0.0183</td>\n",
       "    </tr>\n",
       "    <tr>\n",
       "      <th>122</th>\n",
       "      <td>1434.95</td>\n",
       "      <td>0.0171</td>\n",
       "    </tr>\n",
       "    <tr>\n",
       "      <th>126</th>\n",
       "      <td>1411.55</td>\n",
       "      <td>0.0089</td>\n",
       "    </tr>\n",
       "    <tr>\n",
       "      <th>131</th>\n",
       "      <td>1423.40</td>\n",
       "      <td>-0.0122</td>\n",
       "    </tr>\n",
       "    <tr>\n",
       "      <th>136</th>\n",
       "      <td>1617.75</td>\n",
       "      <td>-0.0187</td>\n",
       "    </tr>\n",
       "    <tr>\n",
       "      <th>141</th>\n",
       "      <td>1349.90</td>\n",
       "      <td>-0.0060</td>\n",
       "    </tr>\n",
       "    <tr>\n",
       "      <th>145</th>\n",
       "      <td>1353.90</td>\n",
       "      <td>-0.0062</td>\n",
       "    </tr>\n",
       "    <tr>\n",
       "      <th>150</th>\n",
       "      <td>1365.30</td>\n",
       "      <td>-0.0109</td>\n",
       "    </tr>\n",
       "    <tr>\n",
       "      <th>154</th>\n",
       "      <td>1371.25</td>\n",
       "      <td>-0.0023</td>\n",
       "    </tr>\n",
       "    <tr>\n",
       "      <th>159</th>\n",
       "      <td>1300.55</td>\n",
       "      <td>-0.0007</td>\n",
       "    </tr>\n",
       "    <tr>\n",
       "      <th>164</th>\n",
       "      <td>1333.35</td>\n",
       "      <td>0.0055</td>\n",
       "    </tr>\n",
       "    <tr>\n",
       "      <th>169</th>\n",
       "      <td>1331.75</td>\n",
       "      <td>-0.0003</td>\n",
       "    </tr>\n",
       "    <tr>\n",
       "      <th>174</th>\n",
       "      <td>1338.05</td>\n",
       "      <td>0.0012</td>\n",
       "    </tr>\n",
       "    <tr>\n",
       "      <th>179</th>\n",
       "      <td>1356.90</td>\n",
       "      <td>-0.0051</td>\n",
       "    </tr>\n",
       "    <tr>\n",
       "      <th>183</th>\n",
       "      <td>1384.00</td>\n",
       "      <td>0.0005</td>\n",
       "    </tr>\n",
       "    <tr>\n",
       "      <th>188</th>\n",
       "      <td>1372.85</td>\n",
       "      <td>0.0127</td>\n",
       "    </tr>\n",
       "    <tr>\n",
       "      <th>193</th>\n",
       "      <td>1367.40</td>\n",
       "      <td>-0.0018</td>\n",
       "    </tr>\n",
       "    <tr>\n",
       "      <th>198</th>\n",
       "      <td>1348.90</td>\n",
       "      <td>-0.0221</td>\n",
       "    </tr>\n",
       "    <tr>\n",
       "      <th>203</th>\n",
       "      <td>1359.75</td>\n",
       "      <td>0.0061</td>\n",
       "    </tr>\n",
       "    <tr>\n",
       "      <th>208</th>\n",
       "      <td>1369.30</td>\n",
       "      <td>0.0205</td>\n",
       "    </tr>\n",
       "    <tr>\n",
       "      <th>213</th>\n",
       "      <td>1361.80</td>\n",
       "      <td>-0.0115</td>\n",
       "    </tr>\n",
       "    <tr>\n",
       "      <th>218</th>\n",
       "      <td>1386.80</td>\n",
       "      <td>0.0108</td>\n",
       "    </tr>\n",
       "    <tr>\n",
       "      <th>223</th>\n",
       "      <td>1336.95</td>\n",
       "      <td>-0.0021</td>\n",
       "    </tr>\n",
       "    <tr>\n",
       "      <th>228</th>\n",
       "      <td>1352.75</td>\n",
       "      <td>0.0054</td>\n",
       "    </tr>\n",
       "    <tr>\n",
       "      <th>233</th>\n",
       "      <td>1372.95</td>\n",
       "      <td>-0.0124</td>\n",
       "    </tr>\n",
       "    <tr>\n",
       "      <th>238</th>\n",
       "      <td>1351.95</td>\n",
       "      <td>-0.0075</td>\n",
       "    </tr>\n",
       "    <tr>\n",
       "      <th>243</th>\n",
       "      <td>1390.10</td>\n",
       "      <td>-0.0052</td>\n",
       "    </tr>\n",
       "    <tr>\n",
       "      <th>248</th>\n",
       "      <td>1363.05</td>\n",
       "      <td>0.0032</td>\n",
       "    </tr>\n",
       "  </tbody>\n",
       "</table>\n",
       "</div>"
      ],
      "text/plain": [
       "       Price     Chg\n",
       "4    2078.25 -0.0023\n",
       "9    2089.95 -0.0038\n",
       "14   2071.20 -0.0343\n",
       "19   1917.95  0.0123\n",
       "24   1894.05 -0.0073\n",
       "29   1858.10  0.0126\n",
       "33   1746.60 -0.0255\n",
       "38   1723.65 -0.0263\n",
       "43   1795.85  0.0015\n",
       "56   1709.00  0.0121\n",
       "60   1757.00  0.0010\n",
       "64   1760.55 -0.0443\n",
       "69   1824.00 -0.0420\n",
       "73   2018.50 -0.0040\n",
       "78   1886.10 -0.0061\n",
       "83   1675.45  0.0261\n",
       "88   1698.65  0.0146\n",
       "93   1618.40 -0.0142\n",
       "98   1469.35 -0.0008\n",
       "103  1438.25  0.0084\n",
       "107  1452.70  0.0064\n",
       "112  1461.15 -0.0130\n",
       "117  1483.45  0.0183\n",
       "122  1434.95  0.0171\n",
       "126  1411.55  0.0089\n",
       "131  1423.40 -0.0122\n",
       "136  1617.75 -0.0187\n",
       "141  1349.90 -0.0060\n",
       "145  1353.90 -0.0062\n",
       "150  1365.30 -0.0109\n",
       "154  1371.25 -0.0023\n",
       "159  1300.55 -0.0007\n",
       "164  1333.35  0.0055\n",
       "169  1331.75 -0.0003\n",
       "174  1338.05  0.0012\n",
       "179  1356.90 -0.0051\n",
       "183  1384.00  0.0005\n",
       "188  1372.85  0.0127\n",
       "193  1367.40 -0.0018\n",
       "198  1348.90 -0.0221\n",
       "203  1359.75  0.0061\n",
       "208  1369.30  0.0205\n",
       "213  1361.80 -0.0115\n",
       "218  1386.80  0.0108\n",
       "223  1336.95 -0.0021\n",
       "228  1352.75  0.0054\n",
       "233  1372.95 -0.0124\n",
       "238  1351.95 -0.0075\n",
       "243  1390.10 -0.0052\n",
       "248  1363.05  0.0032"
      ]
     },
     "execution_count": 206,
     "metadata": {},
     "output_type": "execute_result"
    }
   ],
   "source": [
    "irctc_wed_chg"
   ]
  },
  {
   "cell_type": "code",
   "execution_count": 207,
   "id": "5e3d7499",
   "metadata": {},
   "outputs": [],
   "source": [
    "count_positive = irctc_wed_chg['Chg'].gt(0).sum()"
   ]
  },
  {
   "cell_type": "code",
   "execution_count": 208,
   "id": "b2c4910b",
   "metadata": {},
   "outputs": [
    {
     "name": "stdout",
     "output_type": "stream",
     "text": [
      "21\n"
     ]
    }
   ],
   "source": [
    "print(count_positive)"
   ]
  },
  {
   "cell_type": "code",
   "execution_count": 209,
   "id": "e3bf149e",
   "metadata": {},
   "outputs": [],
   "source": [
    "count_negative = irctc_wed_chg['Chg'].lt(0).sum()\n"
   ]
  },
  {
   "cell_type": "code",
   "execution_count": 210,
   "id": "378a389d",
   "metadata": {},
   "outputs": [
    {
     "name": "stdout",
     "output_type": "stream",
     "text": [
      "29\n"
     ]
    }
   ],
   "source": [
    "print(count_negative)"
   ]
  },
  {
   "cell_type": "code",
   "execution_count": 211,
   "id": "f925b9bf",
   "metadata": {},
   "outputs": [
    {
     "name": "stdout",
     "output_type": "stream",
     "text": [
      "0.58\n"
     ]
    }
   ],
   "source": [
    "loss_perc = (count_negative)/(count_negative + count_positive)\n",
    "print(loss_perc)\n"
   ]
  },
  {
   "cell_type": "code",
   "execution_count": 214,
   "id": "ddddbbab",
   "metadata": {},
   "outputs": [
    {
     "data": {
      "text/plain": [
       "<AxesSubplot:xlabel='Chg', ylabel='Day'>"
      ]
     },
     "execution_count": 214,
     "metadata": {},
     "output_type": "execute_result"
    },
    {
     "data": {
      "image/png": "[encoded data removed]",
      "text/plain": [
       "<Figure size 640x480 with 1 Axes>"
      ]
     },
     "metadata": {},
     "output_type": "display_data"
    }
   ],
   "source": [
    "#Make a scatter plot of Chg% data against the day of the week\n",
    "irctc_data.plot.scatter(x='Chg',y='Day')"
   ]
  },
  {
   "cell_type": "code",
   "execution_count": null,
   "id": "009fa325",
   "metadata": {},
   "outputs": [],
   "source": []
  }
 ],
 "metadata": {
  "kernelspec": {
   "display_name": "Python 3 (ipykernel)",
   "language": "python",
   "name": "python3"
  },
  "language_info": {
   "codemirror_mode": {
    "name": "ipython",
    "version": 3
   },
   "file_extension": ".py",
   "mimetype": "text/x-python",
   "name": "python",
   "nbconvert_exporter": "python",
   "pygments_lexer": "ipython3",
   "version": "3.10.4"
  }
 },
 "nbformat": 4,
 "nbformat_minor": 5
}
